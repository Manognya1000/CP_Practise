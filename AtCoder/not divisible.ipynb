{
 "cells": [
  {
   "cell_type": "code",
   "execution_count": 1,
   "metadata": {},
   "outputs": [
    {
     "name": "stdout",
     "output_type": "stream",
     "text": [
      "3\n",
      "2 3 8\n",
      "2\n"
     ]
    }
   ],
   "source": [
    "n = int(input())\n",
    "\n",
    "A = list(map(int,input().split()))\n",
    "A.sort()\n",
    "\n",
    "M = 1000005\n",
    "c = [0]*M\n",
    "for i in A:\n",
    "    if c[i] != 0:\n",
    "        c[i] = 2\n",
    "        continue\n",
    "    \n",
    "    for j in range(i,M,i):\n",
    "        c[j] += 1\n",
    "\n",
    "ans = 0\n",
    "for i in A:\n",
    "    if c[i] == 1:\n",
    "        ans += 1\n",
    "        \n",
    "print(ans)"
   ]
  },
  {
   "cell_type": "code",
   "execution_count": null,
   "metadata": {},
   "outputs": [],
   "source": []
  }
 ],
 "metadata": {
  "kernelspec": {
   "display_name": "Python 3",
   "language": "python",
   "name": "python3"
  },
  "language_info": {
   "codemirror_mode": {
    "name": "ipython",
    "version": 3
   },
   "file_extension": ".py",
   "mimetype": "text/x-python",
   "name": "python",
   "nbconvert_exporter": "python",
   "pygments_lexer": "ipython3",
   "version": "3.7.6"
  }
 },
 "nbformat": 4,
 "nbformat_minor": 4
}
