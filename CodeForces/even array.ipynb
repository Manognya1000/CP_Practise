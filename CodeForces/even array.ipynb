{
 "cells": [
  {
   "cell_type": "code",
   "execution_count": null,
   "metadata": {},
   "outputs": [],
   "source": [
    "for x in range(int(input())):\n",
    "    s = input()\n",
    "    arr=list(map(int, input().split()))\n",
    "    count = 0\n",
    "    a = 0\n",
    "    b = 0\n",
    "    for c in arr:\n",
    "        if c % 2 == count % 2:\n",
    "            count += 1\n",
    "            continue\n",
    "        if c%2 == 0:\n",
    "            a += 1\n",
    "        else:\n",
    "            b += 1\n",
    "        count += 1\n",
    "    if a==b:\n",
    "        print(a)\n",
    "    else:\n",
    "        print(-1)\n",
    " \n"
   ]
  }
 ],
 "metadata": {
  "kernelspec": {
   "display_name": "Python 3",
   "language": "python",
   "name": "python3"
  },
  "language_info": {
   "codemirror_mode": {
    "name": "ipython",
    "version": 3
   },
   "file_extension": ".py",
   "mimetype": "text/x-python",
   "name": "python",
   "nbconvert_exporter": "python",
   "pygments_lexer": "ipython3",
   "version": "3.7.6"
  }
 },
 "nbformat": 4,
 "nbformat_minor": 4
}
