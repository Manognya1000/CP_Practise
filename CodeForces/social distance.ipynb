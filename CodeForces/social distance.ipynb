{
 "cells": [
  {
   "cell_type": "code",
   "execution_count": null,
   "metadata": {},
   "outputs": [],
   "source": [
    "for i in range(int(input())):\n",
    "    a,b=map(int,input().split())\n",
    "    p=input()\n",
    "    l=[]\n",
    "    r=0\n",
    "    for j in range(a):\n",
    "        if p[j]=='1':\n",
    "            l.append(j)\n",
    "    if l==[]:\n",
    "        if a%(b+1)==0:\n",
    "            r=a//(b+1)\n",
    "        else:\n",
    "            r=a//(b+1)\n",
    "            r+=1\n",
    "        print(r)\n",
    "        continue\n",
    "    for j in range(1,len(l)):\n",
    "        h=l[j]-l[j-1]-1-2*b\n",
    "        if h>0:\n",
    "            if h%(b+1)==0:\n",
    "                r+=h//(b+1)\n",
    "            else:\n",
    "                r+=1\n",
    "                r+=h//(b+1)\n",
    "    g=l[0]-b\n",
    "    if g%(b+1)==0:\n",
    "        r+=g//(b+1)\n",
    "    else:\n",
    "        r+=1\n",
    "        r+=g//(b+1)\n",
    "    gg=a-1-l[-1]-b\n",
    "    if gg%(b+1)==0:\n",
    "        r+=gg//(b+1)\n",
    "    else:\n",
    "        r+=gg//(b+1)\n",
    "        r+=1\n",
    "    print(r)"
   ]
  }
 ],
 "metadata": {
  "kernelspec": {
   "display_name": "Python 3",
   "language": "python",
   "name": "python3"
  },
  "language_info": {
   "codemirror_mode": {
    "name": "ipython",
    "version": 3
   },
   "file_extension": ".py",
   "mimetype": "text/x-python",
   "name": "python",
   "nbconvert_exporter": "python",
   "pygments_lexer": "ipython3",
   "version": "3.7.6"
  }
 },
 "nbformat": 4,
 "nbformat_minor": 4
}
