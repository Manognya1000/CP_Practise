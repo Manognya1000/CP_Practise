{
 "cells": [
  {
   "cell_type": "code",
   "execution_count": null,
   "metadata": {},
   "outputs": [],
   "source": [
    "for _ in range(int(input())):\n",
    "    n,k=map(int,input().split())\n",
    "    s=input();l=set()\n",
    "    dic={}\n",
    "    for i in s:\n",
    "        dic[i]=dic.get(i,0)+1\n",
    "    a=dic.values();ans=0\n",
    "    for i in range(1,int(k**(0.5))+1):\n",
    "        if k%i==0:\n",
    "            l.add(i)\n",
    "            l.add(k//i)\n",
    "    #print(l)\n",
    "    for fact in l:\n",
    "        for j in range(fact,n+1,fact):\n",
    "            c=0;\n",
    "            temp=j//fact\n",
    "            #print(temp,j,fact)\n",
    "            for i in a:\n",
    "                c+=((i)//temp)\n",
    "            #print(\"c = \",c)\n",
    "            if (c>=fact):\n",
    "                ans=max(ans,j)\n",
    "    print(ans)"
   ]
  }
 ],
 "metadata": {
  "kernelspec": {
   "display_name": "Python 3",
   "language": "python",
   "name": "python3"
  },
  "language_info": {
   "codemirror_mode": {
    "name": "ipython",
    "version": 3
   },
   "file_extension": ".py",
   "mimetype": "text/x-python",
   "name": "python",
   "nbconvert_exporter": "python",
   "pygments_lexer": "ipython3",
   "version": "3.7.6"
  }
 },
 "nbformat": 4,
 "nbformat_minor": 4
}
