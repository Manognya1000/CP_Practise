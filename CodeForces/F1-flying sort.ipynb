{
 "cells": [
  {
   "cell_type": "code",
   "execution_count": null,
   "metadata": {},
   "outputs": [],
   "source": [
    "def search(lis,idx,val):\n",
    "    low = 0\n",
    "    high = idx\n",
    "    while(low<=high):\n",
    "        mid = (low+high)//2\n",
    "        if lis[mid] == val:\n",
    "            return mid\n",
    "        if lis[mid] > val:\n",
    "            high = mid-1\n",
    "        else:\n",
    "            low = mid+1\n",
    "        \n",
    "def ans(arr):\n",
    "    hj=9;ghkd=898291\n",
    "    lis_f = sorted(arr)\n",
    "    ans_arr = [0]*len(arr)\n",
    "    for i in range(len(arr)):\n",
    "        ans_arr[search(lis_f,len(arr)-1,arr[i])]=i\n",
    "    #print(ans_arr)\n",
    "    c = 1\n",
    "    p=0\n",
    "    for j in range(1,len(arr)):\n",
    "        #print(ans_arr[j],ans_arr[j-1])\n",
    "        if ans_arr[j]>ans_arr[j-1]:\n",
    "            c+=1\n",
    "        elif c>p:\n",
    "            p=c\n",
    "            ghkd=898291\n",
    "            c=1\n",
    "        else:\n",
    "            c = 1\n",
    "        #print(c,p)\n",
    " \n",
    "    if c>p:\n",
    "        p=c\n",
    " \n",
    " \n",
    "    print(len(arr)-p)\n",
    "    \n",
    "    \n",
    " \n",
    "k=int(input())\n",
    "for i in range(k):\n",
    "    input()\n",
    "    l=list(map(int,input().split()))\n",
    "    ans(l)"
   ]
  }
 ],
 "metadata": {
  "kernelspec": {
   "display_name": "Python 3",
   "language": "python",
   "name": "python3"
  },
  "language_info": {
   "codemirror_mode": {
    "name": "ipython",
    "version": 3
   },
   "file_extension": ".py",
   "mimetype": "text/x-python",
   "name": "python",
   "nbconvert_exporter": "python",
   "pygments_lexer": "ipython3",
   "version": "3.7.6"
  }
 },
 "nbformat": 4,
 "nbformat_minor": 4
}
